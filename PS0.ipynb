{
  "nbformat": 4,
  "nbformat_minor": 0,
  "metadata": {
    "colab": {
      "provenance": [],
      "authorship_tag": "ABX9TyMcBgqkONsgNZ21tAzUxYNL",
      "include_colab_link": true
    },
    "kernelspec": {
      "name": "python3",
      "display_name": "Python 3"
    },
    "language_info": {
      "name": "python"
    }
  },
  "cells": [
    {
      "cell_type": "markdown",
      "metadata": {
        "id": "view-in-github",
        "colab_type": "text"
      },
      "source": [
        "<a href=\"https://colab.research.google.com/github/Venettov/Riveraruiz_GIS/blob/main/PS0.ipynb\" target=\"_parent\"><img src=\"https://colab.research.google.com/assets/colab-badge.svg\" alt=\"Open In Colab\"/></a>"
      ]
    },
    {
      "cell_type": "code",
      "execution_count": null,
      "metadata": {
        "id": "O485bWoQ_Fk3"
      },
      "outputs": [],
      "source": [
        "\n",
        "!pip install geopandas==1.0.1\n",
        "!pip install mapclassify\n"
      ]
    },
    {
      "cell_type": "code",
      "source": [
        "import os, zipfile #basics\n",
        "import pandas as pd #data management\n",
        "import matplotlib.pyplot as plt #visualization library\n",
        "import geopandas as gpd #gis/maps library\n",
        "\n",
        "import mapclassify\n",
        "\n",
        "#will display all output not just last command\n",
        "from IPython.core.interactiveshell import InteractiveShell\n",
        "InteractiveShell.ast_node_interactivity = \"all\"\n",
        "\n",
        "from google.colab import files #to download from colab onto hd\n",
        "\n",
        "from google.colab import data_table\n",
        "data_table.enable_dataframe_formatter() #this enables spreadsheet view upon calling dataframe\n",
        "\n",
        "\n"
      ],
      "metadata": {
        "id": "wamKXAedAGQ6"
      },
      "execution_count": null,
      "outputs": []
    },
    {
      "cell_type": "code",
      "source": [
        "\n",
        "! wget -q -O pr-counties.zip https://docs.google.com/uc?id=1xJDhcRCkgv7k4tNCa72Oog5bohV6dTB2&export=download\n",
        "\n",
        "zip_ref = zipfile.ZipFile('pr-counties.zip', 'r'); zip_ref.extractall(); zip_ref.close() #just unzipping\n",
        "prC0=gpd.read_file('tl_2019_72_subbarrio.shp') #load the shapefile with gpd as prC\n"
      ],
      "metadata": {
        "id": "zamlLuBcBSQ2"
      },
      "execution_count": null,
      "outputs": []
    },
    {
      "cell_type": "code",
      "source": [
        "prC0.plot()"
      ],
      "metadata": {
        "id": "Sl9wr9NxFxbl"
      },
      "execution_count": null,
      "outputs": []
    }
  ]
}